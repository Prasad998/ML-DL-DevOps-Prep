{
  "nbformat": 4,
  "nbformat_minor": 0,
  "metadata": {
    "colab": {
      "provenance": [],
      "toc_visible": true,
      "authorship_tag": "ABX9TyPW1N815ccD53klKZpPS7P4",
      "include_colab_link": true
    },
    "kernelspec": {
      "name": "python3",
      "display_name": "Python 3"
    },
    "language_info": {
      "name": "python"
    }
  },
  "cells": [
    {
      "cell_type": "markdown",
      "metadata": {
        "id": "view-in-github",
        "colab_type": "text"
      },
      "source": [
        "<a href=\"https://colab.research.google.com/github/Prasad998/ML-DL-Prep/blob/main/ML_DL_Snippet_for_INTERVIEWS.ipynb\" target=\"_parent\"><img src=\"https://colab.research.google.com/assets/colab-badge.svg\" alt=\"Open In Colab\"/></a>"
      ]
    },
    {
      "cell_type": "markdown",
      "source": [
        "**MACHINE LEARNING APPROACH**"
      ],
      "metadata": {
        "id": "FS_uX5xdUILJ"
      }
    },
    {
      "cell_type": "code",
      "execution_count": 1,
      "metadata": {
        "colab": {
          "base_uri": "https://localhost:8080/"
        },
        "id": "14bV9mT6STox",
        "outputId": "60e357c7-dcde-4bfd-e23a-bebae17be90b"
      },
      "outputs": [
        {
          "output_type": "stream",
          "name": "stdout",
          "text": [
            "Accuracy: 0.97\n",
            "Predictions for new data: [0 2]\n"
          ]
        }
      ],
      "source": [
        "from sklearn import datasets\n",
        "from sklearn.model_selection import train_test_split\n",
        "from sklearn.preprocessing import StandardScaler\n",
        "from sklearn.svm import SVC\n",
        "from sklearn.metrics import accuracy_score\n",
        "\n",
        "# Load the iris dataset (you can replace this with your own dataset)\n",
        "iris = datasets.load_iris()\n",
        "X = iris.data\n",
        "y = iris.target\n",
        "\n",
        "# Split the data into training and testing sets\n",
        "X_train, X_test, y_train, y_test = train_test_split(X, y, test_size=0.2, random_state=42)\n",
        "\n",
        "# Standardize the features (important for SVM)\n",
        "scaler = StandardScaler()\n",
        "X_train = scaler.fit_transform(X_train)\n",
        "X_test = scaler.transform(X_test)\n",
        "\n",
        "# Create an SVM classifier\n",
        "svm_classifier = SVC(kernel='linear', C=1.0)\n",
        "# You can experiment with different kernels and C values\n",
        "\n",
        "# Train the classifier\n",
        "svm_classifier.fit(X_train, y_train)\n",
        "\n",
        "# Make predictions on the test set\n",
        "predictions = svm_classifier.predict(X_test)\n",
        "\n",
        "# Evaluate the model\n",
        "accuracy = accuracy_score(y_test, predictions)\n",
        "print(f\"Accuracy: {accuracy:.2f}\")\n",
        "\n",
        "# Optionally, you can use the trained model for predictions on new data\n",
        "new_data = [[5.1, 3.5, 1.4, 0.2], [6.2, 3.4, 5.4, 2.3]]\n",
        "scaled_new_data = scaler.transform(new_data)\n",
        "new_predictions = svm_classifier.predict(scaled_new_data)\n",
        "print(f\"Predictions for new data: {new_predictions}\")\n"
      ]
    },
    {
      "cell_type": "code",
      "source": [],
      "metadata": {
        "id": "NFYdn3xw506Y"
      },
      "execution_count": null,
      "outputs": []
    },
    {
      "cell_type": "code",
      "execution_count": 2,
      "metadata": {
        "colab": {
          "base_uri": "https://localhost:8080/"
        },
        "outputId": "3816a9eb-3651-48cf-afe9-605abb6afb48",
        "id": "iaGIXyqD51Qy"
      },
      "outputs": [
        {
          "output_type": "stream",
          "name": "stdout",
          "text": [
            "Accuracy: 0.97\n",
            "Predictions for new data: [0 2]\n"
          ]
        }
      ],
      "source": [
        "from sklearn import datasets\n",
        "from sklearn.model_selection import train_test_split\n",
        "from sklearn.preprocessing import StandardScaler\n",
        "from sklearn.svm import SVC\n",
        "from sklearn.metrics import accuracy_score\n",
        "\n",
        "\n",
        "iris = datasets.load_iris()\n",
        "X = iris.data\n",
        "y = iris.target\n",
        "\n",
        "\n",
        "X_train, X_test, y_train, y_test = train_test_split(X, y, test_size=0.2, random_state=42)\n",
        "\n",
        "\n",
        "scaler = StandardScaler()\n",
        "X_train = scaler.fit_transform(X_train)\n",
        "X_test = scaler.transform(X_test)\n",
        "\n",
        "\n",
        "svm_classifier = SVC(kernel='linear', C=1.0)\n",
        "\n",
        "svm_classifier.fit(X_train, y_train)\n",
        "\n",
        "\n",
        "predictions = svm_classifier.predict(X_test)\n",
        "\n",
        "\n",
        "accuracy = accuracy_score(y_test, predictions)\n",
        "print(f\"Accuracy: {accuracy:.2f}\")\n",
        "\n",
        "\n",
        "new_data = [[5.1, 3.5, 1.4, 0.2], [6.2, 3.4, 5.4, 2.3]]\n",
        "scaled_new_data = scaler.transform(new_data)\n",
        "new_predictions = svm_classifier.predict(scaled_new_data)\n",
        "print(f\"Predictions for new data: {new_predictions}\")\n"
      ]
    },
    {
      "cell_type": "markdown",
      "source": [
        "**DEEP LEARNING APPROACH**"
      ],
      "metadata": {
        "id": "nWeHJG3PT0bX"
      }
    },
    {
      "cell_type": "code",
      "source": [
        "import tensorflow as tf\n",
        "from sklearn.model_selection import train_test_split\n",
        "from sklearn.preprocessing import StandardScaler\n",
        "from sklearn.datasets import load_iris\n",
        "from sklearn.metrics import accuracy_score\n",
        "\n",
        "# Load the Iris dataset\n",
        "iris = load_iris()\n",
        "X = iris.data\n",
        "y = iris.target\n",
        "\n",
        "# Split the data into training and testing sets\n",
        "X_train, X_test, y_train, y_test = train_test_split(X, y, test_size=0.2, random_state=42)\n",
        "\n",
        "# Standardize the features\n",
        "scaler = StandardScaler()\n",
        "X_train = scaler.fit_transform(X_train)\n",
        "X_test = scaler.transform(X_test)\n",
        "\n",
        "# Create a simple neural network model\n",
        "model = tf.keras.Sequential([\n",
        "    tf.keras.layers.Dense(10, activation='relu', input_shape=(4,)),\n",
        "    tf.keras.layers.Dense(3, activation='softmax')\n",
        "])\n",
        "\n",
        "# Compile the model\n",
        "model.compile(optimizer='adam', loss='sparse_categorical_crossentropy', metrics=['accuracy'])\n",
        "\n",
        "# Train the model\n",
        "model.fit(X_train, y_train, epochs=50, batch_size=32, validation_data=(X_test, y_test))\n",
        "\n",
        "# Evaluate the model\n",
        "y_pred = model.predict(X_test)\n",
        "y_pred_classes = tf.argmax(y_pred, axis=1).numpy()\n",
        "accuracy = accuracy_score(y_test, y_pred_classes)\n",
        "print(f\"Accuracy: {accuracy:.2f}\")\n"
      ],
      "metadata": {
        "colab": {
          "base_uri": "https://localhost:8080/"
        },
        "id": "IfmPhXsoTrQm",
        "outputId": "82fbbc5c-ae08-4858-c7c5-ebd27577273b"
      },
      "execution_count": null,
      "outputs": [
        {
          "output_type": "stream",
          "name": "stdout",
          "text": [
            "Epoch 1/50\n",
            "4/4 [==============================] - 1s 64ms/step - loss: 1.5162 - accuracy: 0.1000 - val_loss: 1.3764 - val_accuracy: 0.0667\n",
            "Epoch 2/50\n",
            "4/4 [==============================] - 0s 11ms/step - loss: 1.4839 - accuracy: 0.1083 - val_loss: 1.3452 - val_accuracy: 0.0667\n",
            "Epoch 3/50\n",
            "4/4 [==============================] - 0s 9ms/step - loss: 1.4488 - accuracy: 0.1167 - val_loss: 1.3158 - val_accuracy: 0.1000\n",
            "Epoch 4/50\n",
            "4/4 [==============================] - 0s 9ms/step - loss: 1.4177 - accuracy: 0.1417 - val_loss: 1.2866 - val_accuracy: 0.1667\n",
            "Epoch 5/50\n",
            "4/4 [==============================] - 0s 10ms/step - loss: 1.3860 - accuracy: 0.1667 - val_loss: 1.2587 - val_accuracy: 0.2000\n",
            "Epoch 6/50\n",
            "4/4 [==============================] - 0s 10ms/step - loss: 1.3564 - accuracy: 0.1833 - val_loss: 1.2314 - val_accuracy: 0.2000\n",
            "Epoch 7/50\n",
            "4/4 [==============================] - 0s 9ms/step - loss: 1.3268 - accuracy: 0.1833 - val_loss: 1.2048 - val_accuracy: 0.2000\n",
            "Epoch 8/50\n",
            "4/4 [==============================] - 0s 9ms/step - loss: 1.2999 - accuracy: 0.2167 - val_loss: 1.1790 - val_accuracy: 0.3000\n",
            "Epoch 9/50\n",
            "4/4 [==============================] - 0s 9ms/step - loss: 1.2721 - accuracy: 0.2167 - val_loss: 1.1543 - val_accuracy: 0.3667\n",
            "Epoch 10/50\n",
            "4/4 [==============================] - 0s 10ms/step - loss: 1.2461 - accuracy: 0.2417 - val_loss: 1.1308 - val_accuracy: 0.3667\n",
            "Epoch 11/50\n",
            "4/4 [==============================] - 0s 10ms/step - loss: 1.2212 - accuracy: 0.2833 - val_loss: 1.1077 - val_accuracy: 0.4000\n",
            "Epoch 12/50\n",
            "4/4 [==============================] - 0s 9ms/step - loss: 1.1971 - accuracy: 0.3250 - val_loss: 1.0856 - val_accuracy: 0.4333\n",
            "Epoch 13/50\n",
            "4/4 [==============================] - 0s 12ms/step - loss: 1.1730 - accuracy: 0.3417 - val_loss: 1.0641 - val_accuracy: 0.4333\n",
            "Epoch 14/50\n",
            "4/4 [==============================] - 0s 9ms/step - loss: 1.1507 - accuracy: 0.3417 - val_loss: 1.0431 - val_accuracy: 0.4667\n",
            "Epoch 15/50\n",
            "4/4 [==============================] - 0s 9ms/step - loss: 1.1285 - accuracy: 0.3583 - val_loss: 1.0230 - val_accuracy: 0.5000\n",
            "Epoch 16/50\n",
            "4/4 [==============================] - 0s 9ms/step - loss: 1.1071 - accuracy: 0.3583 - val_loss: 1.0034 - val_accuracy: 0.5000\n",
            "Epoch 17/50\n",
            "4/4 [==============================] - 0s 11ms/step - loss: 1.0857 - accuracy: 0.3750 - val_loss: 0.9847 - val_accuracy: 0.5000\n",
            "Epoch 18/50\n",
            "4/4 [==============================] - 0s 12ms/step - loss: 1.0653 - accuracy: 0.3917 - val_loss: 0.9663 - val_accuracy: 0.5000\n",
            "Epoch 19/50\n",
            "4/4 [==============================] - 0s 10ms/step - loss: 1.0458 - accuracy: 0.4167 - val_loss: 0.9484 - val_accuracy: 0.5333\n",
            "Epoch 20/50\n",
            "4/4 [==============================] - 0s 10ms/step - loss: 1.0265 - accuracy: 0.4417 - val_loss: 0.9309 - val_accuracy: 0.6333\n",
            "Epoch 21/50\n",
            "4/4 [==============================] - 0s 9ms/step - loss: 1.0088 - accuracy: 0.4667 - val_loss: 0.9136 - val_accuracy: 0.6333\n",
            "Epoch 22/50\n",
            "4/4 [==============================] - 0s 10ms/step - loss: 0.9900 - accuracy: 0.4750 - val_loss: 0.8969 - val_accuracy: 0.6333\n",
            "Epoch 23/50\n",
            "4/4 [==============================] - 0s 10ms/step - loss: 0.9724 - accuracy: 0.5000 - val_loss: 0.8807 - val_accuracy: 0.6333\n",
            "Epoch 24/50\n",
            "4/4 [==============================] - 0s 10ms/step - loss: 0.9554 - accuracy: 0.5167 - val_loss: 0.8648 - val_accuracy: 0.6667\n",
            "Epoch 25/50\n",
            "4/4 [==============================] - 0s 9ms/step - loss: 0.9390 - accuracy: 0.5167 - val_loss: 0.8495 - val_accuracy: 0.6667\n",
            "Epoch 26/50\n",
            "4/4 [==============================] - 0s 10ms/step - loss: 0.9235 - accuracy: 0.5417 - val_loss: 0.8343 - val_accuracy: 0.6667\n",
            "Epoch 27/50\n",
            "4/4 [==============================] - 0s 9ms/step - loss: 0.9077 - accuracy: 0.5667 - val_loss: 0.8195 - val_accuracy: 0.7333\n",
            "Epoch 28/50\n",
            "4/4 [==============================] - 0s 9ms/step - loss: 0.8925 - accuracy: 0.5833 - val_loss: 0.8053 - val_accuracy: 0.7333\n",
            "Epoch 29/50\n",
            "4/4 [==============================] - 0s 10ms/step - loss: 0.8788 - accuracy: 0.5917 - val_loss: 0.7912 - val_accuracy: 0.7333\n",
            "Epoch 30/50\n",
            "4/4 [==============================] - 0s 9ms/step - loss: 0.8638 - accuracy: 0.6250 - val_loss: 0.7776 - val_accuracy: 0.7667\n",
            "Epoch 31/50\n",
            "4/4 [==============================] - 0s 9ms/step - loss: 0.8502 - accuracy: 0.6417 - val_loss: 0.7641 - val_accuracy: 0.8000\n",
            "Epoch 32/50\n",
            "4/4 [==============================] - 0s 10ms/step - loss: 0.8367 - accuracy: 0.6500 - val_loss: 0.7512 - val_accuracy: 0.8333\n",
            "Epoch 33/50\n",
            "4/4 [==============================] - 0s 10ms/step - loss: 0.8238 - accuracy: 0.6750 - val_loss: 0.7385 - val_accuracy: 0.8333\n",
            "Epoch 34/50\n",
            "4/4 [==============================] - 0s 9ms/step - loss: 0.8110 - accuracy: 0.6833 - val_loss: 0.7262 - val_accuracy: 0.8667\n",
            "Epoch 35/50\n",
            "4/4 [==============================] - 0s 9ms/step - loss: 0.7989 - accuracy: 0.6917 - val_loss: 0.7140 - val_accuracy: 0.8667\n",
            "Epoch 36/50\n",
            "4/4 [==============================] - 0s 9ms/step - loss: 0.7869 - accuracy: 0.7000 - val_loss: 0.7022 - val_accuracy: 0.9000\n",
            "Epoch 37/50\n",
            "4/4 [==============================] - 0s 9ms/step - loss: 0.7752 - accuracy: 0.7167 - val_loss: 0.6907 - val_accuracy: 0.9000\n",
            "Epoch 38/50\n",
            "4/4 [==============================] - 0s 16ms/step - loss: 0.7638 - accuracy: 0.7250 - val_loss: 0.6794 - val_accuracy: 0.9000\n",
            "Epoch 39/50\n",
            "4/4 [==============================] - 0s 11ms/step - loss: 0.7525 - accuracy: 0.7167 - val_loss: 0.6683 - val_accuracy: 0.9000\n",
            "Epoch 40/50\n",
            "4/4 [==============================] - 0s 12ms/step - loss: 0.7420 - accuracy: 0.7333 - val_loss: 0.6573 - val_accuracy: 0.9000\n",
            "Epoch 41/50\n",
            "4/4 [==============================] - 0s 10ms/step - loss: 0.7314 - accuracy: 0.7333 - val_loss: 0.6467 - val_accuracy: 0.9000\n",
            "Epoch 42/50\n",
            "4/4 [==============================] - 0s 9ms/step - loss: 0.7207 - accuracy: 0.7417 - val_loss: 0.6366 - val_accuracy: 0.9000\n",
            "Epoch 43/50\n",
            "4/4 [==============================] - 0s 10ms/step - loss: 0.7112 - accuracy: 0.7417 - val_loss: 0.6266 - val_accuracy: 0.9000\n",
            "Epoch 44/50\n",
            "4/4 [==============================] - 0s 9ms/step - loss: 0.7012 - accuracy: 0.7500 - val_loss: 0.6171 - val_accuracy: 0.9000\n",
            "Epoch 45/50\n",
            "4/4 [==============================] - 0s 9ms/step - loss: 0.6916 - accuracy: 0.7583 - val_loss: 0.6078 - val_accuracy: 0.9000\n",
            "Epoch 46/50\n",
            "4/4 [==============================] - 0s 9ms/step - loss: 0.6830 - accuracy: 0.7583 - val_loss: 0.5986 - val_accuracy: 0.9000\n",
            "Epoch 47/50\n",
            "4/4 [==============================] - 0s 10ms/step - loss: 0.6740 - accuracy: 0.7500 - val_loss: 0.5896 - val_accuracy: 0.9000\n",
            "Epoch 48/50\n",
            "4/4 [==============================] - 0s 10ms/step - loss: 0.6654 - accuracy: 0.7500 - val_loss: 0.5810 - val_accuracy: 0.9333\n",
            "Epoch 49/50\n",
            "4/4 [==============================] - 0s 10ms/step - loss: 0.6569 - accuracy: 0.7583 - val_loss: 0.5725 - val_accuracy: 0.9333\n",
            "Epoch 50/50\n",
            "4/4 [==============================] - 0s 10ms/step - loss: 0.6488 - accuracy: 0.7667 - val_loss: 0.5642 - val_accuracy: 0.9333\n",
            "1/1 [==============================] - 0s 43ms/step\n",
            "Accuracy: 0.93\n"
          ]
        }
      ]
    },
    {
      "cell_type": "markdown",
      "source": [
        "**SENTIMENT ANALYSIS USING DEEP LEARNING SIMPLE**"
      ],
      "metadata": {
        "id": "haBuy-OBVwCE"
      }
    },
    {
      "cell_type": "code",
      "source": [
        "import tensorflow as tf\n",
        "from tensorflow.keras.datasets import imdb\n",
        "from tensorflow.keras.preprocessing.sequence import pad_sequences\n",
        "from tensorflow.keras.models import Sequential\n",
        "from tensorflow.keras.layers import Embedding, LSTM, Dense\n",
        "\n",
        "# Load the IMDB dataset\n",
        "num_words = 10000  # Top 10,000 frequent words will be used\n",
        "(x_train, y_train), (x_test, y_test) = imdb.load_data(num_words=num_words)\n",
        "\n",
        "# Preprocess the data\n",
        "max_length = 100  # Limit the length of each review to 100 words\n",
        "x_train = pad_sequences(x_train, maxlen=max_length, padding='post')\n",
        "x_test = pad_sequences(x_test, maxlen=max_length, padding='post')\n",
        "\n",
        "# Build the model\n",
        "embedding_dim = 16\n",
        "model = Sequential([\n",
        "    Embedding(input_dim=num_words, output_dim=embedding_dim, input_length=max_length),\n",
        "    LSTM(units=64),\n",
        "    Dense(units=1, activation='sigmoid')\n",
        "])\n",
        "\n",
        "# Compile the model\n",
        "model.compile(optimizer='adam', loss='binary_crossentropy', metrics=['accuracy'])\n",
        "\n",
        "# Train the model\n",
        "model.fit(x_train, y_train, epochs=5, batch_size=32, validation_split=0.2)\n",
        "\n",
        "# Evaluate the model\n",
        "loss, accuracy = model.evaluate(x_test, y_test)\n",
        "print(f\"Test Accuracy: {accuracy:.2f}\")\n"
      ],
      "metadata": {
        "colab": {
          "base_uri": "https://localhost:8080/"
        },
        "id": "927FwhEKVwlg",
        "outputId": "eaf9721a-9dfd-4919-eefa-a65eec9b89ea"
      },
      "execution_count": null,
      "outputs": [
        {
          "output_type": "stream",
          "name": "stdout",
          "text": [
            "Epoch 1/5\n",
            "625/625 [==============================] - 30s 46ms/step - loss: 0.4577 - accuracy: 0.7758 - val_loss: 0.3819 - val_accuracy: 0.8370\n",
            "Epoch 2/5\n",
            "625/625 [==============================] - 28s 45ms/step - loss: 0.2795 - accuracy: 0.8898 - val_loss: 0.3617 - val_accuracy: 0.8512\n",
            "Epoch 3/5\n",
            "625/625 [==============================] - 27s 44ms/step - loss: 0.2200 - accuracy: 0.9169 - val_loss: 0.3975 - val_accuracy: 0.8382\n",
            "Epoch 4/5\n",
            "625/625 [==============================] - 27s 44ms/step - loss: 0.1860 - accuracy: 0.9339 - val_loss: 0.4145 - val_accuracy: 0.8364\n",
            "Epoch 5/5\n",
            "625/625 [==============================] - 27s 44ms/step - loss: 0.1552 - accuracy: 0.9463 - val_loss: 0.4555 - val_accuracy: 0.8388\n",
            "782/782 [==============================] - 11s 14ms/step - loss: 0.4702 - accuracy: 0.8326\n",
            "Test Accuracy: 0.83\n"
          ]
        }
      ]
    }
  ]
}